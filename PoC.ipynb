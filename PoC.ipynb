{
 "cells": [
  {
   "cell_type": "code",
   "execution_count": 229,
   "metadata": {},
   "outputs": [],
   "source": [
    "import numpy as np\n",
    "import pandas as pd\n",
    "import pydub\n",
    "from keras.layers import Dense, LSTM, LeakyReLU\n",
    "from keras.models import Sequential, load_model\n",
    "from scipy.io.wavfile import read, write\n",
    "from tensorflow import keras"
   ]
  },
  {
   "cell_type": "markdown",
   "metadata": {},
   "source": [
    "## Model trainen"
   ]
  },
  {
   "cell_type": "code",
   "execution_count": 96,
   "metadata": {
    "scrolled": false
   },
   "outputs": [
    {
     "name": "stdout",
     "output_type": "stream",
     "text": [
      "60000\n",
      "1438704\n"
     ]
    },
    {
     "data": {
      "text/html": [
       "<div>\n",
       "<style scoped>\n",
       "    .dataframe tbody tr th:only-of-type {\n",
       "        vertical-align: middle;\n",
       "    }\n",
       "\n",
       "    .dataframe tbody tr th {\n",
       "        vertical-align: top;\n",
       "    }\n",
       "\n",
       "    .dataframe thead th {\n",
       "        text-align: right;\n",
       "    }\n",
       "</style>\n",
       "<table border=\"1\" class=\"dataframe\">\n",
       "  <thead>\n",
       "    <tr style=\"text-align: right;\">\n",
       "      <th></th>\n",
       "      <th>0</th>\n",
       "      <th>1</th>\n",
       "    </tr>\n",
       "  </thead>\n",
       "  <tbody>\n",
       "    <tr>\n",
       "      <th>0</th>\n",
       "      <td>0</td>\n",
       "      <td>0</td>\n",
       "    </tr>\n",
       "    <tr>\n",
       "      <th>1</th>\n",
       "      <td>0</td>\n",
       "      <td>0</td>\n",
       "    </tr>\n",
       "    <tr>\n",
       "      <th>2</th>\n",
       "      <td>0</td>\n",
       "      <td>0</td>\n",
       "    </tr>\n",
       "    <tr>\n",
       "      <th>3</th>\n",
       "      <td>0</td>\n",
       "      <td>0</td>\n",
       "    </tr>\n",
       "    <tr>\n",
       "      <th>4</th>\n",
       "      <td>0</td>\n",
       "      <td>0</td>\n",
       "    </tr>\n",
       "    <tr>\n",
       "      <th>...</th>\n",
       "      <td>...</td>\n",
       "      <td>...</td>\n",
       "    </tr>\n",
       "    <tr>\n",
       "      <th>2877403</th>\n",
       "      <td>-6374</td>\n",
       "      <td>-2511</td>\n",
       "    </tr>\n",
       "    <tr>\n",
       "      <th>2877404</th>\n",
       "      <td>-8590</td>\n",
       "      <td>-3918</td>\n",
       "    </tr>\n",
       "    <tr>\n",
       "      <th>2877405</th>\n",
       "      <td>-8178</td>\n",
       "      <td>-2730</td>\n",
       "    </tr>\n",
       "    <tr>\n",
       "      <th>2877406</th>\n",
       "      <td>-6648</td>\n",
       "      <td>-2086</td>\n",
       "    </tr>\n",
       "    <tr>\n",
       "      <th>2877407</th>\n",
       "      <td>-7863</td>\n",
       "      <td>-4958</td>\n",
       "    </tr>\n",
       "  </tbody>\n",
       "</table>\n",
       "<p>2877408 rows × 2 columns</p>\n",
       "</div>"
      ],
      "text/plain": [
       "            0     1\n",
       "0           0     0\n",
       "1           0     0\n",
       "2           0     0\n",
       "3           0     0\n",
       "4           0     0\n",
       "...       ...   ...\n",
       "2877403 -6374 -2511\n",
       "2877404 -8590 -3918\n",
       "2877405 -8178 -2730\n",
       "2877406 -6648 -2086\n",
       "2877407 -7863 -4958\n",
       "\n",
       "[2877408 rows x 2 columns]"
      ]
     },
     "execution_count": 96,
     "metadata": {},
     "output_type": "execute_result"
    }
   ],
   "source": [
    "# converting mp3 file to wav file\n",
    "sound = pydub.AudioSegment.from_mp3(r\"..\\scripts\\assets\\data\\recordings\\eminem.mp3\")\n",
    "sound.export(r\"..\\scripts\\assets\\data\\recordings\\eminem.wav\", format=\"wav\")\n",
    "\n",
    "# loading the wav files\n",
    "rate, music1 = read(r'..\\scripts\\assets\\data\\recordings\\recording_08-10-2020_19-01-20.wav')\n",
    "music1_limit = int(len(music1) / 4)\n",
    "music1_beginlimit = int(len(music1) / 8)\n",
    "# taking only some part of the songs and converting to a dataframe\n",
    "music1 = pd.DataFrame(music1[0:music1_limit])\n",
    "\n",
    "rate, music2 = read(r'..\\scripts\\assets\\data\\recordings\\eminem.wav')\n",
    "music2_limit = int(len(music2) / 4)\n",
    "music2_beginlimit = int(len(music2) / 8)\n",
    "music2 = pd.DataFrame(music2[0:music2_limit])\n",
    "\n",
    "music2"
   ]
  },
  {
   "cell_type": "code",
   "execution_count": 97,
   "metadata": {},
   "outputs": [],
   "source": [
    "# function to create training data by shifting the music data \n",
    "def create_train_dataset(df, look_back, train=True):\n",
    "    dataX1, dataX2 , dataY1 , dataY2 = [],[],[],[]\n",
    "    for i in range(len(df)-look_back-1):\n",
    "        dataX1.append(df.iloc[i : i + look_back, 0].values)\n",
    "        dataX2.append(df.iloc[i : i + look_back, 1].values)\n",
    "        if train:\n",
    "            dataY1.append(df.iloc[i + look_back, 0])\n",
    "            dataY2.append(df.iloc[i + look_back, 1])\n",
    "    if train:\n",
    "        return np.array(dataX1), np.array(dataX2), np.array(dataY1), np.array(dataY2)\n",
    "    else:\n",
    "        return np.array(dataX1), np.array(dataX2)"
   ]
  },
  {
   "cell_type": "code",
   "execution_count": 98,
   "metadata": {},
   "outputs": [],
   "source": [
    "X1, X2, y1, y2 = create_train_dataset(pd.concat([music1.iloc[0:music1_beginlimit, :],\n",
    "                                                 music2.iloc[0:music2_beginlimit, :]], axis=0), look_back=3, train=True)"
   ]
  },
  {
   "cell_type": "code",
   "execution_count": 99,
   "metadata": {},
   "outputs": [],
   "source": [
    "test1, test2 = create_train_dataset(pd.concat([music1.iloc[music1_beginlimit+1 : music1_limit, :],\n",
    "                                               music2.iloc[music1_beginlimit+1 : music2_limit, :]], axis=0), look_back=3, train=False)"
   ]
  },
  {
   "cell_type": "code",
   "execution_count": 100,
   "metadata": {},
   "outputs": [],
   "source": [
    "X1 = X1.reshape((-1, 1, 3))\n",
    "X2 = X2.reshape((-1, 1, 3))\n",
    "test1 = test1.reshape((-1, 1, 3))\n",
    "test2 = test2.reshape((-1, 1, 3))"
   ]
  },
  {
   "cell_type": "code",
   "execution_count": 101,
   "metadata": {},
   "outputs": [
    {
     "name": "stdout",
     "output_type": "stream",
     "text": [
      "Epoch 1/20\n",
      "1498700/1498700 [==============================] - 32s 22us/step - loss: 11374132.3026\n",
      "Epoch 2/20\n",
      "1498700/1498700 [==============================] - 32s 21us/step - loss: 11304957.1806\n",
      "Epoch 3/20\n",
      "1498700/1498700 [==============================] - 34s 22us/step - loss: 11294578.1115\n",
      "Epoch 4/20\n",
      "1498700/1498700 [==============================] - 32s 21us/step - loss: 11297753.9098\n",
      "Epoch 5/20\n",
      "1498700/1498700 [==============================] - 32s 21us/step - loss: 11293993.4321\n",
      "Epoch 6/20\n",
      "1498700/1498700 [==============================] - 32s 21us/step - loss: 11287405.8945\n",
      "Epoch 7/20\n",
      "1498700/1498700 [==============================] - 32s 21us/step - loss: 11284196.0476\n",
      "Epoch 8/20\n",
      "1498700/1498700 [==============================] - 32s 21us/step - loss: 11285007.3995\n",
      "Epoch 9/20\n",
      "1498700/1498700 [==============================] - 32s 21us/step - loss: 11284716.0896\n",
      "Epoch 10/20\n",
      "1498700/1498700 [==============================] - 31s 21us/step - loss: 11283991.5261\n",
      "Epoch 11/20\n",
      "1498700/1498700 [==============================] - 33s 22us/step - loss: 11278776.5215\n",
      "Epoch 12/20\n",
      "1498700/1498700 [==============================] - 32s 21us/step - loss: 11277838.4094\n",
      "Epoch 13/20\n",
      "1498700/1498700 [==============================] - 32s 21us/step - loss: 11277434.6254\n",
      "Epoch 14/20\n",
      "1498700/1498700 [==============================] - 33s 22us/step - loss: 11280794.4689\n",
      "Epoch 15/20\n",
      "1498700/1498700 [==============================] - 32s 21us/step - loss: 11277948.7852\n",
      "Epoch 16/20\n",
      "1498700/1498700 [==============================] - 34s 23us/step - loss: 11271359.4172\n",
      "Epoch 17/20\n",
      "1498700/1498700 [==============================] - 33s 22us/step - loss: 11273149.5112\n",
      "Epoch 18/20\n",
      "1498700/1498700 [==============================] - 32s 22us/step - loss: 11270710.1541\n",
      "Epoch 19/20\n",
      "1498700/1498700 [==============================] - 33s 22us/step - loss: 11267158.7503\n",
      "Epoch 20/20\n",
      "1498700/1498700 [==============================] - 32s 21us/step - loss: 11267568.0617\n"
     ]
    },
    {
     "data": {
      "text/plain": [
       "<keras.callbacks.callbacks.History at 0x1dd9e753488>"
      ]
     },
     "execution_count": 101,
     "metadata": {},
     "output_type": "execute_result"
    }
   ],
   "source": [
    "# LSTM Model for channel 1 of the music data\n",
    "rnn1 = Sequential()\n",
    "rnn1.add(LSTM(units=100, activation='relu', input_shape=(None, 3)))\n",
    "rnn1.add(Dense(units=50, activation='relu'))\n",
    "rnn1.add(Dense(units=25, activation='relu'))\n",
    "rnn1.add(Dense(units=12, activation='relu'))\n",
    "rnn1.add(Dense(units=1, activation='relu'))\n",
    "rnn1.compile(optimizer='adam', loss='mean_squared_error')\n",
    "rnn1.fit(X1, y1, epochs=20, batch_size=100)"
   ]
  },
  {
   "cell_type": "code",
   "execution_count": 102,
   "metadata": {},
   "outputs": [
    {
     "name": "stdout",
     "output_type": "stream",
     "text": [
      "Epoch 1/20\n",
      "1498700/1498700 [==============================] - 32s 21us/step - loss: 26749270.2503\n",
      "Epoch 2/20\n",
      "1498700/1498700 [==============================] - 32s 21us/step - loss: 26648310.7378\n",
      "Epoch 3/20\n",
      "1498700/1498700 [==============================] - 32s 21us/step - loss: 26630875.2564\n",
      "Epoch 4/20\n",
      "1498700/1498700 [==============================] - 32s 21us/step - loss: 26623878.5085\n",
      "Epoch 5/20\n",
      "1498700/1498700 [==============================] - 33s 22us/step - loss: 26617067.7318\n",
      "Epoch 6/20\n",
      "1498700/1498700 [==============================] - 34s 23us/step - loss: 26612397.4966\n",
      "Epoch 7/20\n",
      "1498700/1498700 [==============================] - 32s 21us/step - loss: 26621955.9542\n",
      "Epoch 8/20\n",
      "1498700/1498700 [==============================] - 31s 21us/step - loss: 26609838.8683\n",
      "Epoch 9/20\n",
      "1498700/1498700 [==============================] - 33s 22us/step - loss: 26607278.6200\n",
      "Epoch 10/20\n",
      "1498700/1498700 [==============================] - 34s 22us/step - loss: 26606676.7329\n",
      "Epoch 11/20\n",
      "1498700/1498700 [==============================] - 33s 22us/step - loss: 26605647.4672\n",
      "Epoch 12/20\n",
      "1498700/1498700 [==============================] - 33s 22us/step - loss: 26600535.7346\n",
      "Epoch 13/20\n",
      "1498700/1498700 [==============================] - 32s 22us/step - loss: 26602174.2731\n",
      "Epoch 14/20\n",
      "1498700/1498700 [==============================] - 33s 22us/step - loss: 26598810.4400\n",
      "Epoch 15/20\n",
      "1498700/1498700 [==============================] - 35s 24us/step - loss: 26592042.4289\n",
      "Epoch 16/20\n",
      "1498700/1498700 [==============================] - 49s 33us/step - loss: 26604165.3935\n",
      "Epoch 17/20\n",
      "1498700/1498700 [==============================] - 49s 33us/step - loss: 26592540.7721\n",
      "Epoch 18/20\n",
      "1498700/1498700 [==============================] - 51s 34us/step - loss: 26596167.6280\n",
      "Epoch 19/20\n",
      "1498700/1498700 [==============================] - 44s 29us/step - loss: 26589634.9516\n",
      "Epoch 20/20\n",
      "1498700/1498700 [==============================] - 50s 33us/step - loss: 26585834.3007\n"
     ]
    },
    {
     "data": {
      "text/plain": [
       "<keras.callbacks.callbacks.History at 0x1ddb069eec8>"
      ]
     },
     "execution_count": 102,
     "metadata": {},
     "output_type": "execute_result"
    }
   ],
   "source": [
    "# LSTM Model for channel 1 of the music data\n",
    "rnn2 = Sequential()\n",
    "rnn2.add(LSTM(units=100, activation='relu', input_shape=(None, 3)))\n",
    "rnn2.add(Dense(units=50, activation='relu'))\n",
    "rnn2.add(Dense(units=25, activation='relu'))\n",
    "rnn2.add(Dense(units=12, activation='relu'))\n",
    "rnn2.add(Dense(units=1, activation='relu'))\n",
    "rnn2.compile(optimizer='adam', loss='mean_squared_error')\n",
    "rnn2.fit(X2, y2, epochs=20, batch_size=100)"
   ]
  },
  {
   "cell_type": "code",
   "execution_count": 103,
   "metadata": {},
   "outputs": [],
   "source": [
    "# making predictions for channel 1 and channel 2\n",
    "pred_rnn1 = rnn1.predict(test1)\n",
    "pred_rnn2 = rnn2.predict(test2)"
   ]
  },
  {
   "cell_type": "code",
   "execution_count": 104,
   "metadata": {},
   "outputs": [],
   "source": [
    "# saving the LSTM predicitons in wav format\n",
    "write('pred_rnn.wav', rate, pd.concat([pd.DataFrame(pred_rnn1.astype('int16')), pd.DataFrame(pred_rnn2.astype('int16'))], axis=1).values)\n",
    "\n",
    "# saving the original music in wav format\n",
    "write('original.wav',rate, pd.concat([music1.iloc[music1_beginlimit+1 : music1_limit, :],\n",
    "                                      music2.iloc[music2_beginlimit+1 : music2_limit, :]], axis=0).values)"
   ]
  },
  {
   "cell_type": "code",
   "execution_count": 227,
   "metadata": {},
   "outputs": [],
   "source": [
    "# Save models for reuse\n",
    "rnn1.model.save(r'..\\scripts\\models\\rnn1.h5')\n",
    "rnn2.model.save(r'..\\scripts\\models\\rnn2.h5')"
   ]
  },
  {
   "cell_type": "markdown",
   "metadata": {},
   "source": [
    "## Dit komt in backend"
   ]
  },
  {
   "cell_type": "code",
   "execution_count": 230,
   "metadata": {},
   "outputs": [],
   "source": [
    "# Load models\n",
    "rnn1 = keras.models.load_model(r'..\\scripts\\models\\rnn1.h5')\n",
    "rnn2 = keras.models.load_model(r'..\\scripts\\models\\rnn2.h5')"
   ]
  },
  {
   "cell_type": "code",
   "execution_count": 231,
   "metadata": {},
   "outputs": [
    {
     "data": {
      "text/html": [
       "<div>\n",
       "<style scoped>\n",
       "    .dataframe tbody tr th:only-of-type {\n",
       "        vertical-align: middle;\n",
       "    }\n",
       "\n",
       "    .dataframe tbody tr th {\n",
       "        vertical-align: top;\n",
       "    }\n",
       "\n",
       "    .dataframe thead th {\n",
       "        text-align: right;\n",
       "    }\n",
       "</style>\n",
       "<table border=\"1\" class=\"dataframe\">\n",
       "  <thead>\n",
       "    <tr style=\"text-align: right;\">\n",
       "      <th></th>\n",
       "      <th>0</th>\n",
       "      <th>1</th>\n",
       "    </tr>\n",
       "  </thead>\n",
       "  <tbody>\n",
       "    <tr>\n",
       "      <th>0</th>\n",
       "      <td>1</td>\n",
       "      <td>1</td>\n",
       "    </tr>\n",
       "    <tr>\n",
       "      <th>1</th>\n",
       "      <td>6</td>\n",
       "      <td>6</td>\n",
       "    </tr>\n",
       "    <tr>\n",
       "      <th>2</th>\n",
       "      <td>4</td>\n",
       "      <td>4</td>\n",
       "    </tr>\n",
       "    <tr>\n",
       "      <th>3</th>\n",
       "      <td>-3</td>\n",
       "      <td>-3</td>\n",
       "    </tr>\n",
       "    <tr>\n",
       "      <th>4</th>\n",
       "      <td>-14</td>\n",
       "      <td>-14</td>\n",
       "    </tr>\n",
       "    <tr>\n",
       "      <th>...</th>\n",
       "      <td>...</td>\n",
       "      <td>...</td>\n",
       "    </tr>\n",
       "    <tr>\n",
       "      <th>58448</th>\n",
       "      <td>-3</td>\n",
       "      <td>-3</td>\n",
       "    </tr>\n",
       "    <tr>\n",
       "      <th>58449</th>\n",
       "      <td>-5</td>\n",
       "      <td>-5</td>\n",
       "    </tr>\n",
       "    <tr>\n",
       "      <th>58450</th>\n",
       "      <td>0</td>\n",
       "      <td>0</td>\n",
       "    </tr>\n",
       "    <tr>\n",
       "      <th>58451</th>\n",
       "      <td>2</td>\n",
       "      <td>2</td>\n",
       "    </tr>\n",
       "    <tr>\n",
       "      <th>58452</th>\n",
       "      <td>5</td>\n",
       "      <td>5</td>\n",
       "    </tr>\n",
       "  </tbody>\n",
       "</table>\n",
       "<p>58453 rows × 2 columns</p>\n",
       "</div>"
      ],
      "text/plain": [
       "        0   1\n",
       "0       1   1\n",
       "1       6   6\n",
       "2       4   4\n",
       "3      -3  -3\n",
       "4     -14 -14\n",
       "...    ..  ..\n",
       "58448  -3  -3\n",
       "58449  -5  -5\n",
       "58450   0   0\n",
       "58451   2   2\n",
       "58452   5   5\n",
       "\n",
       "[58453 rows x 2 columns]"
      ]
     },
     "execution_count": 231,
     "metadata": {},
     "output_type": "execute_result"
    }
   ],
   "source": [
    "# Read .wav file\n",
    "rate, input_audio = read(r'..\\scripts\\assets\\data\\recordings\\YAF_death_ps.wav')\n",
    "\n",
    "# Convert wav array to dataframe\n",
    "input_audioframe = pd.DataFrame(input_audio)\n",
    "\n",
    "input_audioframe_startlimit = int(len(input_audioframe) / 4)\n",
    "input_audioframe_maxlimit = int(len(input_audioframe))\n",
    "\n",
    "# Add second column (channel) if it doesn't exist\n",
    "if len(input_audioframe.columns.values) != 2:\n",
    "    input_audioframe[1] = input_audioframe[0]\n",
    "\n",
    "input_audioframe"
   ]
  },
  {
   "cell_type": "code",
   "execution_count": 232,
   "metadata": {},
   "outputs": [],
   "source": [
    "X1, X2, y1, y2 = create_train_dataset(pd.concat([input_audioframe.iloc[0:input_audioframe_startlimit, :],\n",
    "                                                 input_audioframe.iloc[0:input_audioframe_startlimit, :]], axis=0), look_back=3, train=True)"
   ]
  },
  {
   "cell_type": "code",
   "execution_count": 233,
   "metadata": {},
   "outputs": [],
   "source": [
    "test1, test2 = create_train_dataset(pd.concat([input_audioframe.iloc[input_audioframe_startlimit+1 : input_audioframe_maxlimit, :],\n",
    "                                               input_audioframe.iloc[input_audioframe_startlimit+1 : input_audioframe_maxlimit, :]], axis=0), look_back=3, train=False)"
   ]
  },
  {
   "cell_type": "code",
   "execution_count": 234,
   "metadata": {},
   "outputs": [],
   "source": [
    "# Reshape to 3D array\n",
    "X1 = X1.reshape((-1, 1, 3))\n",
    "X2 = X2.reshape((-1, 1, 3))\n",
    "test1 = test1.reshape((-1, 1, 3))\n",
    "test2 = test2.reshape((-1, 1, 3))"
   ]
  },
  {
   "cell_type": "code",
   "execution_count": 235,
   "metadata": {},
   "outputs": [],
   "source": [
    "pred_rnn1 = rnn1.predict(test1)\n",
    "pred_rnn2 = rnn2.predict(test2)"
   ]
  },
  {
   "cell_type": "code",
   "execution_count": 236,
   "metadata": {},
   "outputs": [],
   "source": [
    "# saving the LSTM predicitons in wav format\n",
    "write('..\\scripts\\output\\pred_rnn3.wav', rate, pd.concat([pd.DataFrame(pred_rnn1.astype('int16')), pd.DataFrame(pred_rnn2.astype('int16'))], axis=1).values)\n",
    "\n",
    "# saving the original music in wav format\n",
    "write('..\\scripts\\output\\original3.wav',rate, pd.concat([input_audioframe.iloc[input_audioframe_startlimit+1 : input_audioframe_maxlimit, :],\n",
    "                                      input_audioframe.iloc[input_audioframe_startlimit+1 : input_audioframe_maxlimit, :]], axis=0).values)"
   ]
  },
  {
   "cell_type": "code",
   "execution_count": null,
   "metadata": {},
   "outputs": [],
   "source": []
  }
 ],
 "metadata": {
  "kernelspec": {
   "display_name": "Python 3",
   "language": "python",
   "name": "python3"
  },
  "language_info": {
   "codemirror_mode": {
    "name": "ipython",
    "version": 3
   },
   "file_extension": ".py",
   "mimetype": "text/x-python",
   "name": "python",
   "nbconvert_exporter": "python",
   "pygments_lexer": "ipython3",
   "version": "3.7.9"
  }
 },
 "nbformat": 4,
 "nbformat_minor": 4
}
